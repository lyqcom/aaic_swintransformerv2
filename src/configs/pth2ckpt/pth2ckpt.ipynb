{
 "cells": [
  {
   "cell_type": "code",
   "execution_count": 56,
   "id": "dd6e47a3",
   "metadata": {},
   "outputs": [
    {
     "name": "stdout",
     "output_type": "stream",
     "text": [
      "layers.0.blocks.0.attn.relative_coords_table torch.Size([1, 23, 23, 2])\n",
      "layers.0.blocks.1.attn.relative_coords_table torch.Size([1, 23, 23, 2])\n",
      "layers.1.blocks.0.attn.relative_coords_table torch.Size([1, 23, 23, 2])\n",
      "layers.1.blocks.1.attn.relative_coords_table torch.Size([1, 23, 23, 2])\n",
      "layers.2.blocks.0.attn.relative_coords_table torch.Size([1, 23, 23, 2])\n",
      "layers.2.blocks.1.attn.relative_coords_table torch.Size([1, 23, 23, 2])\n",
      "layers.2.blocks.2.attn.relative_coords_table torch.Size([1, 23, 23, 2])\n",
      "layers.2.blocks.3.attn.relative_coords_table torch.Size([1, 23, 23, 2])\n",
      "layers.2.blocks.4.attn.relative_coords_table torch.Size([1, 23, 23, 2])\n",
      "layers.2.blocks.5.attn.relative_coords_table torch.Size([1, 23, 23, 2])\n",
      "layers.2.blocks.6.attn.relative_coords_table torch.Size([1, 23, 23, 2])\n",
      "layers.2.blocks.7.attn.relative_coords_table torch.Size([1, 23, 23, 2])\n",
      "layers.2.blocks.8.attn.relative_coords_table torch.Size([1, 23, 23, 2])\n",
      "layers.2.blocks.9.attn.relative_coords_table torch.Size([1, 23, 23, 2])\n",
      "layers.2.blocks.10.attn.relative_coords_table torch.Size([1, 23, 23, 2])\n",
      "layers.2.blocks.11.attn.relative_coords_table torch.Size([1, 23, 23, 2])\n",
      "layers.2.blocks.12.attn.relative_coords_table torch.Size([1, 23, 23, 2])\n",
      "layers.2.blocks.13.attn.relative_coords_table torch.Size([1, 23, 23, 2])\n",
      "layers.2.blocks.14.attn.relative_coords_table torch.Size([1, 23, 23, 2])\n",
      "layers.2.blocks.15.attn.relative_coords_table torch.Size([1, 23, 23, 2])\n",
      "layers.2.blocks.16.attn.relative_coords_table torch.Size([1, 23, 23, 2])\n",
      "layers.2.blocks.17.attn.relative_coords_table torch.Size([1, 23, 23, 2])\n",
      "layers.3.blocks.0.attn.relative_coords_table torch.Size([1, 11, 11, 2])\n",
      "layers.3.blocks.1.attn.relative_coords_table torch.Size([1, 11, 11, 2])\n"
     ]
    }
   ],
   "source": [
    "import torch\n",
    "import numpy as np\n",
    "from mindspore import Tensor, dtype\n",
    "from mindspore import save_checkpoint\n",
    "from mindspore import Parameter\n",
    "\n",
    "name_pth = \"swinv2_base_patch4_window12_192_22k\"\n",
    "model = torch.load(f\"{name_pth}.pth\", map_location='cpu')['model']\n",
    "for key in model:\n",
    "    if \"relative_coords_table\" in key:\n",
    "        print(key, model[key].shape)"
   ]
  },
  {
   "cell_type": "code",
   "execution_count": 57,
   "id": "0709412a",
   "metadata": {},
   "outputs": [],
   "source": [
    "weights = []\n",
    "prefix = \"model.\"\n",
    "for key in model.keys():\n",
    "    name2weight = {}\n",
    "    if \"relative_position_index\" in key or \"attn_mask\" in key:\n",
    "        pass\n",
    "    elif \"norm\" in key:\n",
    "        if \"weight\" in key:\n",
    "            name2weight[\"name\"] = prefix + key.replace(\".weight\", \".gamma\")\n",
    "        elif \"bias\" in key:\n",
    "            name2weight[\"name\"] = prefix + key.replace(\".bias\", \".beta\")\n",
    "        else:\n",
    "            raise ValueError(\"Wrong\")\n",
    "        name2weight[\"data\"] = Parameter(Tensor(model[key].numpy(), dtype.float32),requires_grad=True) \n",
    "        weights.append(name2weight)\n",
    "    elif \"qkv\" in key:\n",
    "        key_q = prefix + key.replace(\"qkv\", \"q\")\n",
    "        key_k = prefix + key.replace(\"qkv\", \"k\")\n",
    "        key_v = prefix + key.replace(\"qkv\", \"v\")\n",
    "        shape = model[key].shape[0]//3\n",
    "        weight = Parameter(Tensor(model[key].numpy(), dtype.float32),requires_grad=True) \n",
    "        weight_q = weight[:shape]\n",
    "        weight_k = weight[shape:shape*2]\n",
    "        weight_v = weight[shape*2:]\n",
    "        weights.append({\"name\":key_q, \"data\": weight_q})\n",
    "        weights.append({\"name\":key_k, \"data\": weight_k})\n",
    "        weights.append({\"name\":key_v, \"data\": weight_v})\n",
    "    elif \"q_bias\" in key:\n",
    "        k = prefix + key.replace(\"q_bias\", \"q.bias\")\n",
    "        weight = Parameter(Tensor(model[key].numpy(), dtype.float32),requires_grad=True)\n",
    "        weights.append({\"name\":k, \"data\": weight})\n",
    "    elif \"v_bias\" in key:\n",
    "        weight = Parameter(Tensor(model[key].numpy(), dtype.float32),requires_grad=True)\n",
    "        k = prefix + key.replace(\"v_bias\", \"v.bias\")\n",
    "        weights.append({\"name\":k, \"data\": weight})\n",
    "    elif \"relative_coords_table\" in key:\n",
    "        if 'layers.3' in key:\n",
    "            k = prefix + key\n",
    "            weight = torch.nn.functional.interpolate(model[key].permute(0,3,1,2), size=(15, 15), mode='bicubic').permute(0,2,3,1)\n",
    "            weight = Parameter(Tensor(weight.numpy(), dtype.float32),requires_grad=True)\n",
    "        else:\n",
    "            k = prefix + key\n",
    "            weight = torch.nn.functional.interpolate(model[key].permute(0,3,1,2), size=(31, 31), mode='bicubic').permute(0,2,3,1)\n",
    "            weight = Parameter(Tensor(weight.numpy(), dtype.float32),requires_grad=True)\n",
    "        # print(weight.shape)\n",
    "        weights.append({\"name\":k, \"data\": weight})\n",
    "    elif \"head\" in key:\n",
    "        with open(\"image22kto1k.txt\", \"r\") as f:\n",
    "            lines = f.readlines()\n",
    "        index = np.array([int(a) for a in lines])\n",
    "        if \"22k\" in name:\n",
    "            assert model[key].shape[0] != 0\n",
    "        if model[key].shape[0] != 1000:\n",
    "            weight = model[key].numpy()[index]\n",
    "        else:\n",
    "            weight = model[key].numpy()\n",
    "        weight = Parameter(Tensor(weight, dtype.float32),requires_grad=True)\n",
    "        weights.append({\"name\": prefix+key, \"data\": weight})\n",
    "    else:\n",
    "        weight = Parameter(Tensor(model[key].numpy(), dtype.float32 if \"index\" not in key else dtype.int32),requires_grad=True)\n",
    "        key = prefix + key\n",
    "        weights.append({\"name\": key, \"data\": weight})"
   ]
  },
  {
   "cell_type": "code",
   "execution_count": 58,
   "id": "a079bc1f",
   "metadata": {},
   "outputs": [
    {
     "data": {
      "text/plain": [
       "(87962000, 497)"
      ]
     },
     "execution_count": 58,
     "metadata": {},
     "output_type": "execute_result"
    }
   ],
   "source": [
    "sum([np.prod(weights[i]['data'].shape) for i in range(len(weights))]), len(weights)"
   ]
  },
  {
   "cell_type": "code",
   "execution_count": 59,
   "id": "0a9a49be",
   "metadata": {},
   "outputs": [],
   "source": [
    "save_checkpoint(weights, f\"{name_pth}.ckpt\")"
   ]
  },
  {
   "cell_type": "code",
   "execution_count": null,
   "id": "f4c01c83",
   "metadata": {},
   "outputs": [],
   "source": []
  }
 ],
 "metadata": {
  "kernelspec": {
   "display_name": "Python 3 (ipykernel)",
   "language": "python",
   "name": "python3"
  },
  "language_info": {
   "codemirror_mode": {
    "name": "ipython",
    "version": 3
   },
   "file_extension": ".py",
   "mimetype": "text/x-python",
   "name": "python",
   "nbconvert_exporter": "python",
   "pygments_lexer": "ipython3",
   "version": "3.9.12"
  },
  "vscode": {
   "interpreter": {
    "hash": "22834332dee9b5d2b93c4292ec84ca2350d22e3c205bb95a70e35f0020ab12e8"
   }
  }
 },
 "nbformat": 4,
 "nbformat_minor": 5
}
